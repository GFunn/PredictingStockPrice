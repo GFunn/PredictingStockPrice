{
 "cells": [
  {
   "cell_type": "markdown",
   "metadata": {},
   "source": [
    "## Get started!"
   ]
  },
  {
   "cell_type": "code",
   "execution_count": 2,
   "metadata": {
    "collapsed": true
   },
   "outputs": [],
   "source": [
    "import numpy as np\n",
    "import pandas as pd\n",
    "from datetime import datetime\n",
    "from sklearn.linear_model import LinearRegression\n",
    "from sklearn.metrics import mean_absolute_error"
   ]
  },
  {
   "cell_type": "markdown",
   "metadata": {},
   "source": [
    "### First I need to process the data a little bit."
   ]
  },
  {
   "cell_type": "code",
   "execution_count": 3,
   "metadata": {},
   "outputs": [
    {
     "name": "stdout",
     "output_type": "stream",
     "text": [
      "         Date         Open         High          Low        Close  \\\n",
      "0  2015-12-07  2090.419922  2090.419922  2066.780029  2077.070068   \n",
      "1  2015-12-04  2051.239990  2093.840088  2051.239990  2091.689941   \n",
      "2  2015-12-03  2080.709961  2085.000000  2042.349976  2049.620117   \n",
      "3  2015-12-02  2101.709961  2104.270020  2077.110107  2079.510010   \n",
      "4  2015-12-01  2082.929932  2103.370117  2082.929932  2102.629883   \n",
      "\n",
      "         Volume    Adj Close  \n",
      "0  4.043820e+09  2077.070068  \n",
      "1  4.214910e+09  2091.689941  \n",
      "2  4.306490e+09  2049.620117  \n",
      "3  3.950640e+09  2079.510010  \n",
      "4  3.712120e+09  2102.629883  \n"
     ]
    }
   ],
   "source": [
    "stock = pd.read_csv('sphist.csv')\n",
    "stock_raw = stock\n",
    "print(stock.head())"
   ]
  },
  {
   "cell_type": "code",
   "execution_count": 4,
   "metadata": {},
   "outputs": [
    {
     "name": "stdout",
     "output_type": "stream",
     "text": [
      "Date object\n",
      "Open float64\n",
      "High float64\n",
      "Low float64\n",
      "Close float64\n",
      "Volume float64\n",
      "Adj Close float64\n"
     ]
    }
   ],
   "source": [
    "for col in stock.columns:\n",
    "    print(col, stock[col].dtype)"
   ]
  },
  {
   "cell_type": "code",
   "execution_count": 5,
   "metadata": {},
   "outputs": [
    {
     "name": "stdout",
     "output_type": "stream",
     "text": [
      "datetime64[ns]\n"
     ]
    }
   ],
   "source": [
    "stock['Date'] = pd.to_datetime(stock['Date'], format='%Y-%m-%d')\n",
    "print(stock['Date'].dtype)"
   ]
  },
  {
   "cell_type": "code",
   "execution_count": 6,
   "metadata": {},
   "outputs": [
    {
     "name": "stdout",
     "output_type": "stream",
     "text": [
      "            Date   Open   High    Low  Close     Volume  Adj Close\n",
      "16589 1950-01-03  16.66  16.66  16.66  16.66  1260000.0      16.66\n",
      "16588 1950-01-04  16.85  16.85  16.85  16.85  1890000.0      16.85\n",
      "16587 1950-01-05  16.93  16.93  16.93  16.93  2550000.0      16.93\n",
      "16586 1950-01-06  16.98  16.98  16.98  16.98  2010000.0      16.98\n",
      "16585 1950-01-09  17.08  17.08  17.08  17.08  2520000.0      17.08\n"
     ]
    }
   ],
   "source": [
    "stock = stock.sort_values(by='Date')\n",
    "print(stock.head())"
   ]
  },
  {
   "cell_type": "markdown",
   "metadata": {},
   "source": [
    "Here I'm goint to calculate the mean of closing price for the past 5 days, 30 days and 365 days, and shift them down so it won't appear to be predicting price using today's price."
   ]
  },
  {
   "cell_type": "code",
   "execution_count": 7,
   "metadata": {},
   "outputs": [
    {
     "name": "stdout",
     "output_type": "stream",
     "text": [
      "            Date   Open   High    Low  Close     Volume  Adj Close  close_5  \\\n",
      "16589 1950-01-03  16.66  16.66  16.66  16.66  1260000.0      16.66      NaN   \n",
      "16588 1950-01-04  16.85  16.85  16.85  16.85  1890000.0      16.85      NaN   \n",
      "16587 1950-01-05  16.93  16.93  16.93  16.93  2550000.0      16.93      NaN   \n",
      "16586 1950-01-06  16.98  16.98  16.98  16.98  2010000.0      16.98      NaN   \n",
      "16585 1950-01-09  17.08  17.08  17.08  17.08  2520000.0      17.08     16.9   \n",
      "\n",
      "       close_30  close_365  \n",
      "16589       NaN        NaN  \n",
      "16588       NaN        NaN  \n",
      "16587       NaN        NaN  \n",
      "16586       NaN        NaN  \n",
      "16585       NaN        NaN  \n"
     ]
    }
   ],
   "source": [
    "stock['close_5'] = stock['Close'].rolling(window=5).mean()\n",
    "stock['close_30'] = stock['Close'].rolling(window=30).mean()\n",
    "stock['close_365'] = stock['Close'].rolling(window=365).mean()\n",
    "print(stock.head())"
   ]
  },
  {
   "cell_type": "code",
   "execution_count": 8,
   "metadata": {
    "scrolled": false
   },
   "outputs": [
    {
     "name": "stdout",
     "output_type": "stream",
     "text": [
      "            Date       Open       High        Low      Close     Volume  \\\n",
      "16224 1951-06-19  22.020000  22.020000  22.020000  22.020000  1100000.0   \n",
      "16223 1951-06-20  21.910000  21.910000  21.910000  21.910000  1120000.0   \n",
      "16222 1951-06-21  21.780001  21.780001  21.780001  21.780001  1100000.0   \n",
      "16221 1951-06-22  21.549999  21.549999  21.549999  21.549999  1340000.0   \n",
      "16220 1951-06-25  21.290001  21.290001  21.290001  21.290001  2440000.0   \n",
      "16219 1951-06-26  21.299999  21.299999  21.299999  21.299999  1260000.0   \n",
      "\n",
      "       Adj Close  close_5   close_30  close_365  \n",
      "16224  22.020000   21.800  21.703333  19.447726  \n",
      "16223  21.910000   21.900  21.683000  19.462411  \n",
      "16222  21.780001   21.972  21.659667  19.476274  \n",
      "16221  21.549999   21.960  21.631000  19.489562  \n",
      "16220  21.290001   21.862  21.599000  19.502082  \n",
      "16219  21.299999   21.710  21.564333  19.513617  \n"
     ]
    }
   ],
   "source": [
    "stock[['close_5', 'close_30', 'close_365']] = stock[['close_5', 'close_30', 'close_365']].shift(1)\n",
    "stock = stock.dropna(axis=0)\n",
    "print(stock.head(6))"
   ]
  },
  {
   "cell_type": "code",
   "execution_count": 9,
   "metadata": {},
   "outputs": [
    {
     "name": "stdout",
     "output_type": "stream",
     "text": [
      "          Date         Open        High          Low        Close  \\\n",
      "739 2012-12-31  1402.430054  1426.73999  1398.109985  1426.189941   \n",
      "\n",
      "           Volume    Adj Close      close_5     close_30    close_365  \n",
      "739  3.204330e+09  1426.189941  1419.434009  1411.830001  1327.261562   \n",
      "\n",
      "\n",
      "\n",
      "          Date         Open         High          Low        Close  \\\n",
      "738 2013-01-02  1426.189941  1462.430054  1426.189941  1462.420044   \n",
      "\n",
      "           Volume    Adj Close      close_5     close_30    close_365  \n",
      "738  4.202600e+09  1462.420044  1418.641992  1414.258667  1327.534055  \n"
     ]
    }
   ],
   "source": [
    "train = stock[stock['Date'] < datetime(year=2013, month=1, day=1)]\n",
    "test = stock[stock['Date'] >= datetime(year=2013, month=1, day=1)]\n",
    "print(train.tail(1), '\\n\\n\\n')\n",
    "print(test.head(1))"
   ]
  },
  {
   "cell_type": "code",
   "execution_count": 10,
   "metadata": {
    "scrolled": true
   },
   "outputs": [
    {
     "name": "stdout",
     "output_type": "stream",
     "text": [
      "Mean Absolute Error for using only past 5 days mean closing price:\t 16.2678787545\n",
      "Mean Absolute Error for using 3 mean closing price:\t\t\t 16.1424396436\n"
     ]
    }
   ],
   "source": [
    "lr_1 = LinearRegression()\n",
    "lr_3 = LinearRegression()\n",
    "\n",
    "feature_1 = ['close_5']\n",
    "feature_3 = ['close_5', 'close_30', 'close_365']\n",
    "target = 'Close'\n",
    "\n",
    "lr_1.fit(train[feature_1], train[target])\n",
    "prediction_1 = lr_1.predict(test[feature_1])\n",
    "mae_1 = mean_absolute_error(test[target], prediction_1)\n",
    "\n",
    "lr_3.fit(train[feature_3], train[target])\n",
    "prediction_3 = lr_3.predict(test[feature_3])\n",
    "mae_3 = mean_absolute_error(test[target], prediction_3)\n",
    "\n",
    "print('Mean Absolute Error for using only past 5 days mean closing price:\\t', mae_1)\n",
    "print('Mean Absolute Error for using 3 mean closing price:\\t\\t\\t', mae_3)"
   ]
  },
  {
   "cell_type": "markdown",
   "metadata": {},
   "source": [
    "### The result is not too bad, but still have a lot of room to improve."
   ]
  },
  {
   "cell_type": "markdown",
   "metadata": {},
   "source": [
    "next I'm considering to use these ideas to improve my model.  \n",
    "  \n",
    "The average volume over the past five days.  \n",
    "The average volume over the past year.  \n",
    "The ratio between the average volume for the past five days, and the average volume for the past year.  \n",
    "The standard deviation of the average volume over the past five days.  \n",
    "The standard deviation of the average volume over the past year.  \n",
    "The ratio between the standard deviation of the average volume for the past five days, and the standard deviation of the average volume for the past year.  \n",
    "The year component of the date.  \n",
    "The ratio between the lowest price in the past year and the current price.  \n",
    "The ratio between the highest price in the past year and the current price.  \n",
    "The year component of the date.  \n",
    "The month component of the date.  \n",
    "The day of week.  \n",
    "The day component of the date.  \n",
    "The number of holidays in the prior month."
   ]
  },
  {
   "cell_type": "code",
   "execution_count": 95,
   "metadata": {},
   "outputs": [
    {
     "name": "stdout",
     "output_type": "stream",
     "text": [
      "(16225, 39)\n",
      "['weekdays_0', 'weekdays_1', 'weekdays_2', 'weekdays_3', 'weekdays_4', 'months_1', 'months_2', 'months_3', 'months_4', 'months_5', 'months_6', 'months_7', 'months_8', 'months_9', 'months_10', 'months_11', 'months_12']\n"
     ]
    }
   ],
   "source": [
    "############ Processing Cell ############\n",
    "\n",
    "stock1 = stock_raw\n",
    "stock1['Date'] = pd.to_datetime(stock1['Date'], format='%Y-%m-%d')\n",
    "stock1 = stock1.sort_values(by='Date')\n",
    "\n",
    "stock1['close_5'] = stock1['Close'].rolling(window=5).mean()\n",
    "stock1['close_30'] = stock1['Close'].rolling(window=30).mean()\n",
    "stock1['close_365'] = stock1['Close'].rolling(window=365).mean()\n",
    "#########(got mae=16.1424)#########\n",
    "\n",
    "stock1['volume_5'] = stock1['Volume'].rolling(window=5).mean()\n",
    "stock1['volume_30'] = stock1['Volume'].rolling(window=30).mean()\n",
    "stock1['volume_365'] = stock1['Volume'].rolling(window=365).mean()\n",
    "#########(got mae=16.1213)#########\n",
    "\n",
    "stock1['std_v5'] = stock1['Volume'].rolling(window=5).std()\n",
    "stock1['std_v30'] = stock1['Volume'].rolling(window=30).std()\n",
    "stock1['std_v365'] = stock1['Volume'].rolling(window=365).std()\n",
    "#########(got mae=16.1393)#########\n",
    "\n",
    "stock1['amplitude'] = stock1['High'] - stock1['Low']\n",
    "stock1['amp_5'] = stock1['amplitude'].rolling(window=5).mean()\n",
    "stock1['amp_30'] = stock1['amplitude'].rolling(window=30).mean()\n",
    "stock1['amp_365'] = stock1['amplitude'].rolling(window=365).mean()\n",
    "#########(got mae=16.0139)#########\n",
    "\n",
    "stock1['weekdays'] = stock1['Date'].dt.dayofweek\n",
    "stock1['months'] = stock1['Date'].dt.month\n",
    "weekday_dummies = pd.get_dummies(stock1['weekdays'], prefix='weekdays')\n",
    "month_dummies = pd.get_dummies(stock1['months'], prefix='months')\n",
    "stock1 = pd.concat([stock1, weekday_dummies, month_dummies], axis=1)\n",
    "day_list = list(weekday_dummies.columns.values) + list(month_dummies.columns.values)\n",
    "#########(got mae=15.9851)#########\n",
    "\n",
    "feature_cols = ['close_5', 'close_30', 'close_365',\n",
    "               'volume_5', 'volume_30', 'volume_365',\n",
    "               'std_v5', 'std_v30', 'std_v365',\n",
    "               'amp_5', 'amp_30', 'amp_365']\n",
    "\n",
    "stock1[feature_cols] = stock1[feature_cols].shift(1)\n",
    "\n",
    "stock1 = stock1.dropna(axis=0)\n",
    "\n",
    "train1 = stock1[stock['Date'] < datetime(year=2013, month=1, day=1)]\n",
    "test1 = stock1[stock['Date'] >= datetime(year=2013, month=1, day=1)]\n",
    "print(stock1.shape)\n",
    "print(day_list)"
   ]
  },
  {
   "cell_type": "code",
   "execution_count": 107,
   "metadata": {},
   "outputs": [
    {
     "name": "stdout",
     "output_type": "stream",
     "text": [
      "Mean Absolute Error for using closing price and volumes: 15.9851563779\n"
     ]
    }
   ],
   "source": [
    "############ Adjusting Cell ############\n",
    "\n",
    "lr1 = LinearRegression()\n",
    "\n",
    "feature1 = ['close_5', 'close_30', 'close_365',\n",
    "            'volume_5', 'volume_30', 'volume_365',\n",
    "            'std_v5', 'std_v30', 'std_v365',\n",
    "            'amp_5', 'amp_30', 'amp_365'] + day_list\n",
    "target = 'Close'\n",
    "\n",
    "lr1.fit(train1[feature1], train1[target])\n",
    "prediction1 = lr1.predict(test1[feature1])\n",
    "mae1 = mean_absolute_error(test1[target], prediction1)\n",
    "\n",
    "print('Mean Absolute Error for using closing price and volumes:', mae1)"
   ]
  },
  {
   "cell_type": "code",
   "execution_count": null,
   "metadata": {
    "collapsed": true
   },
   "outputs": [],
   "source": []
  }
 ],
 "metadata": {
  "kernelspec": {
   "display_name": "Python 3",
   "language": "python",
   "name": "python3"
  },
  "language_info": {
   "codemirror_mode": {
    "name": "ipython",
    "version": 3
   },
   "file_extension": ".py",
   "mimetype": "text/x-python",
   "name": "python",
   "nbconvert_exporter": "python",
   "pygments_lexer": "ipython3",
   "version": "3.6.1"
  }
 },
 "nbformat": 4,
 "nbformat_minor": 2
}
