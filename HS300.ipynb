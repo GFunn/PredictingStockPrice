{
 "cells": [
  {
   "cell_type": "code",
   "execution_count": 115,
   "metadata": {
    "collapsed": true
   },
   "outputs": [],
   "source": [
    "import numpy as np\n",
    "import pandas as pd\n",
    "from datetime import datetime\n",
    "from sklearn.linear_model import LinearRegression\n",
    "from sklearn.metrics import mean_absolute_error\n",
    "from sklearn.ensemble import RandomForestRegressor"
   ]
  },
  {
   "cell_type": "code",
   "execution_count": 116,
   "metadata": {
    "collapsed": true
   },
   "outputs": [],
   "source": [
    "stock = pd.read_csv('399300.csv')"
   ]
  },
  {
   "cell_type": "code",
   "execution_count": 117,
   "metadata": {},
   "outputs": [
    {
     "name": "stdout",
     "output_type": "stream",
     "text": [
      "(3109, 36)\n",
      "['weekdays_0.0', 'weekdays_1.0', 'weekdays_2.0', 'weekdays_3.0', 'weekdays_4.0', 'months_1.0', 'months_2.0', 'months_3.0', 'months_4.0', 'months_5.0', 'months_6.0', 'months_7.0', 'months_8.0', 'months_9.0', 'months_10.0', 'months_11.0', 'months_12.0']\n"
     ]
    }
   ],
   "source": [
    "############ Processing Cell ############\n",
    "\n",
    "stock['Date'] = pd.to_datetime(stock['Date'], format='%d/%m/%Y')\n",
    "stock = stock.sort_values(by='Date')\n",
    "\n",
    "stock['close_5'] = stock['Close'].rolling(window=5).mean()\n",
    "stock['close_30'] = stock['Close'].rolling(window=30).mean()\n",
    "#stock['close_365'] = stock['Close'].rolling(window=365).mean()\n",
    "\n",
    "stock['volume_5'] = stock['Volume'].rolling(window=5).mean()\n",
    "stock['volume_30'] = stock['Volume'].rolling(window=30).mean()\n",
    "#stock['volume_365'] = stock['Volume'].rolling(window=365).mean()\n",
    "\n",
    "stock['std_v5'] = stock['Volume'].rolling(window=5).std()\n",
    "stock['std_v30'] = stock['Volume'].rolling(window=30).std()\n",
    "#stock['std_v365'] = stock['Volume'].rolling(window=365).std()\n",
    "\n",
    "stock['amp_5'] = stock['Range'].rolling(window=5).mean()\n",
    "stock['amp_30'] = stock['Range'].rolling(window=30).mean()\n",
    "#stock['amp_365'] = stock['Range'].rolling(window=365).mean()\n",
    "\n",
    "stock['weekdays'] = stock['Date'].dt.dayofweek\n",
    "stock['months'] = stock['Date'].dt.month\n",
    "weekday_dummies = pd.get_dummies(stock['weekdays'], prefix='weekdays')\n",
    "month_dummies = pd.get_dummies(stock['months'], prefix='months')\n",
    "stock = pd.concat([stock, weekday_dummies, month_dummies], axis=1)\n",
    "day_list = list(weekday_dummies.columns.values) + list(month_dummies.columns.values)\n",
    "\n",
    "feature_cols = ['close_5', 'close_30',\n",
    "               'volume_5', 'volume_30',\n",
    "               'std_v5', 'std_v30',\n",
    "               'amp_5', 'amp_30',]\n",
    "\n",
    "# 保留一下错位前的数据，需要用这个的最后一行预测明天的价格\n",
    "stock1 = stock\n",
    "stock[feature_cols] = stock[feature_cols].shift(1)\n",
    "\n",
    "stock = stock.dropna(axis=0)\n",
    "\n",
    "train = stock[stock['Date'] < datetime(year=2015, month=1, day=1)]\n",
    "test = stock[stock['Date'] >= datetime(year=2015, month=1, day=1)]\n",
    "print(stock.shape)\n",
    "print(day_list)"
   ]
  },
  {
   "cell_type": "code",
   "execution_count": 118,
   "metadata": {
    "scrolled": true
   },
   "outputs": [
    {
     "name": "stdout",
     "output_type": "stream",
     "text": [
      "Mean Absolute Error for using closing price and volumes: 48.9987566441\n",
      "Error in percentage is: 1.361547%\n"
     ]
    }
   ],
   "source": [
    "lr = LinearRegression()\n",
    "\n",
    "feature = ['close_5', 'close_30',\n",
    "               'volume_5', 'volume_30',\n",
    "               'std_v5', 'std_v30',\n",
    "               'amp_5', 'amp_30',] + day_list\n",
    "target = 'Close'\n",
    "\n",
    "lr.fit(train[feature], train[target])\n",
    "prediction = lr.predict(test[feature])\n",
    "mae = mean_absolute_error(test[target], prediction)\n",
    "error_in_perc = (mae / test[target].mean()) * 100\n",
    "\n",
    "print('Mean Absolute Error for using closing price and volumes:', mae)\n",
    "print('Error in percentage is: %f%s' % (error_in_perc,'%'))"
   ]
  },
  {
   "cell_type": "code",
   "execution_count": 124,
   "metadata": {},
   "outputs": [
    {
     "name": "stdout",
     "output_type": "stream",
     "text": [
      "[ 4016.30665877]\n"
     ]
    }
   ],
   "source": [
    "lr1 = LinearRegression()\n",
    "\n",
    "feature = ['close_5', 'close_30',\n",
    "               'volume_5', 'volume_30',\n",
    "               'std_v5', 'std_v30',\n",
    "               'amp_5', 'amp_30',] + day_list\n",
    "target = 'Close'\n",
    "\n",
    "# 这里的最后一行就是从今日起往前五日的平均数据\n",
    "# 按错位后数据喂养的模型使用这个最后一行预测出的是明日的价格\n",
    "stock1 = stock1.dropna()\n",
    "last_line = stock1.iloc[-1:]\n",
    "\n",
    "lr1.fit(stock[feature], stock[target])\n",
    "prediction = lr1.predict(last_line[feature])\n",
    "\n",
    "print(prediction)"
   ]
  }
 ],
 "metadata": {
  "kernelspec": {
   "display_name": "Python 3",
   "language": "python",
   "name": "python3"
  },
  "language_info": {
   "codemirror_mode": {
    "name": "ipython",
    "version": 3
   },
   "file_extension": ".py",
   "mimetype": "text/x-python",
   "name": "python",
   "nbconvert_exporter": "python",
   "pygments_lexer": "ipython3",
   "version": "3.6.1"
  }
 },
 "nbformat": 4,
 "nbformat_minor": 2
}
